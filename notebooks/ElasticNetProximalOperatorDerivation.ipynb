{
 "cells": [
  {
   "cell_type": "markdown",
   "metadata": {},
   "source": [
    "Title:  Proximal Operator for Elastic Net Regularization  \n",
    "Author: Christopher White, Richard Postelnik  \n",
    "Date:   May 3, 2017 \n",
    "\n",
    "# Derivation of the Proximal Operator for Elastic Net Regularization\n",
    "\n",
    "The proximal operator for a function $f$ is defined as:\n",
    "\n",
    "$$prox_f(v, \\lambda)= \\arg\\min_x \\big(f(x) + \\frac{1}{2\\lambda}\\| x-v\\|^2\\big)$$\n",
    "\n",
    "Elastic net regularization is defined as a convex combination of the $\\ell_1$ and $\\ell_2$ norm:\n",
    "\n",
    "$$\\alpha\\| x\\|_1 + \\frac{(1 - \\alpha)}{2}\\| x\\|^2_2$$\n",
    "\n",
    "where $\\alpha\\in[0, 1]$ and the half before the $\\ell_2$ norm is added for purely for convenience in derivation.\n",
    "\n",
    "Plugging this into the proximal operator definition:\n",
    "\n",
    "$$prox_f(v, \\lambda)=\\arg\\min_x\\big(\\alpha\\| x\\|_1 + \\frac{(1 - \\alpha)}{2}\\| x\\|^2_2 + \\frac{1}{2\\lambda}\\| x-v\\|^2\\big)$$\n",
    "\n",
    "The first order optimality condition states that $0$ is in the subgradient:\n",
    "\n",
    "$$\\alpha\\partial\\Vert x\\Vert_1 + (1-\\alpha)x_i + \\frac{1}{\\lambda}(x_i - v_i) \\ni 0$$\n",
    "\n",
    "where:\n",
    "\n",
    "$$\\alpha\\partial\\Vert x\\Vert_1 = \\left\\{\n",
    "\\begin{array}{ll}\n",
    "      sign(x)\\alpha  & x \\neq 0 \\\\\n",
    "      [-\\alpha, \\alpha] & x=0 \\\\\n",
    "\\end{array} \n",
    "\\right.$$\n",
    "\n",
    "When x is not 0 we have:\n",
    "\n",
    "$$x = \\frac{v-\\lambda sign(v)}{\\lambda - \\lambda\\alpha + 1}$$\n",
    "\n",
    "Plugging in values for positive and negative x we find the above holds when:\n",
    "\n",
    "$$|v| > \\lambda\\alpha$$\n",
    "\n",
    "Likewise, when x = 0 the condition is:\n",
    "\n",
    "$$|v| \\leq \\lambda\\alpha$$\n",
    "\n",
    "And we find that the proximal operator for elastic net is:\n",
    "\n",
    "$$prox_f(v, \\lambda) = \\left\\{\n",
    "\\begin{array}{ll}\n",
    "      \\frac{v-\\lambda sign(v)}{\\lambda - \\lambda\\alpha + 1}  & |v| > \\lambda\\alpha \\\\\n",
    "      0 & |v|\\leq \\lambda\\alpha \\\\\n",
    "\\end{array} \n",
    "\\right.$$\n",
    "\n"
   ]
  },
  {
   "cell_type": "code",
   "execution_count": null,
   "metadata": {
    "collapsed": true
   },
   "outputs": [],
   "source": []
  }
 ],
 "metadata": {
  "kernelspec": {
   "display_name": "Python 3",
   "language": "python",
   "name": "python3"
  },
  "language_info": {
   "codemirror_mode": {
    "name": "ipython",
    "version": 3
   },
   "file_extension": ".py",
   "mimetype": "text/x-python",
   "name": "python",
   "nbconvert_exporter": "python",
   "pygments_lexer": "ipython3",
   "version": "3.5.2"
  }
 },
 "nbformat": 4,
 "nbformat_minor": 2
}
