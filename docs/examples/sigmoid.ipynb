{
 "cells": [
  {
   "cell_type": "code",
   "execution_count": null,
   "metadata": {
    "collapsed": true
   },
   "outputs": [],
   "source": [
    "import matplotlib.pyplot as plt\n",
    "%matplotlib inline\n",
    "import numpy as np"
   ]
  },
  {
   "cell_type": "markdown",
   "metadata": {},
   "source": [
    "## Taylor series expansion of the sigmoid\n",
    "\n",
    "$g(x) =  \\frac{1}{1 + e^{-x}}$\n",
    "\n",
    "$g'(x)  = g(x) (1-g(x))$\n",
    "\n",
    "$g''(x)  = g(x) (1 - g(x)) (1 - 2 g(x))$\n",
    "\n",
    "$g'''(x)  = g(x) (1 - g(x)) (1 - 2 g(x)) (1 - 4 g(x))$\n",
    "\n"
   ]
  },
  {
   "cell_type": "code",
   "execution_count": null,
   "metadata": {
    "collapsed": true
   },
   "outputs": [],
   "source": [
    "def sigmoid(x):\n",
    "    return 1.0 / (1.0 + np.exp(-x))\n",
    "\n",
    "def sig_taylor(x, xo, fo):\n",
    "    \"\"\"Sigmoid taylor series expansion around xo, order 3\"\"\"\n",
    "    # note: fo = sigmoid(xo)\n",
    "    fp = fo*(1-fo)\n",
    "    fpp = fp*(1-2*fo)\n",
    "    fppp = fpp*(1-4*fo)\n",
    "    d = x-xo\n",
    "    y = fo + fp*d + 0.5*fpp*np.power(d,2) + (1.0/6.0)*fppp*np.power(d,3)\n",
    "    return y\n",
    "\n",
    "# Want to evaluate sigmoid here\n",
    "x = np.linspace(-8,8,2000)\n",
    "\n",
    "# Store a lookup table at a small number of points\n",
    "z = np.linspace(-8,8,100)\n",
    "s = sigmoid(z)\n",
    "\n",
    "# Interpolate using the taylor series\n",
    "sig_hat = np.zeros(x.shape)\n",
    "for n in range(len(x)):\n",
    "    # find nearest point in the lookup table\n",
    "    nearest = np.abs(z-x[n]).argmin()\n",
    "    xo = z[nearest]\n",
    "    fo = s[nearest]\n",
    "    # evaluate the expansion\n",
    "    sig_hat[n] = sig_taylor(x[n], xo, fo)\n",
    "\n",
    "plt.figure()\n",
    "plt.subplot(2,1,1)\n",
    "plt.plot(x, sigmoid(x), 'b', x, sig_hat, 'r')\n",
    "plt.subplot(2,1,2)\n",
    "plt.plot(x, sigmoid(x) - sig_hat);"
   ]
  },
  {
   "cell_type": "code",
   "execution_count": null,
   "metadata": {
    "collapsed": true
   },
   "outputs": [],
   "source": [
    "# if abs(x) > 8 we can use 1 (or 0) to better than 3 digits\n",
    "print(1.0 - sigmoid(8))\n",
    "\n",
    "# if abs(x) > 10 we can use 1 (or 0) to better than 4 digits\n",
    "print(1.0 - sigmoid(10))\n"
   ]
  }
 ],
 "metadata": {
  "anaconda-cloud": {},
  "kernelspec": {
   "display_name": "Python 3",
   "language": "python",
   "name": "python3"
  },
  "language_info": {
   "codemirror_mode": {
    "name": "ipython",
    "version": 3
   },
   "file_extension": ".py",
   "mimetype": "text/x-python",
   "name": "python",
   "nbconvert_exporter": "python",
   "pygments_lexer": "ipython3",
   "version": "3.6.1"
  }
 },
 "nbformat": 4,
 "nbformat_minor": 2
}
